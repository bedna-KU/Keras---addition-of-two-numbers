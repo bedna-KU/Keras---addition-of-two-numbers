{
  "nbformat": 4,
  "nbformat_minor": 0,
  "metadata": {
    "colab": {
      "name": "Keras - addition of two numbers",
      "provenance": [],
      "collapsed_sections": []
    },
    "kernelspec": {
      "name": "python3",
      "display_name": "Python 3"
    }
  },
  "cells": [
    {
      "cell_type": "markdown",
      "metadata": {
        "id": "As_kcPdXQNGK",
        "colab_type": "text"
      },
      "source": [
        "# Import libraries"
      ]
    },
    {
      "cell_type": "code",
      "metadata": {
        "id": "__OYYIuBJ-jC",
        "colab_type": "code",
        "colab": {}
      },
      "source": [
        "from tensorflow.keras.models import Sequential, load_model\n",
        "from tensorflow.keras.layers import Dense\n",
        "from random import randint\n",
        "from numpy import array\n",
        "import os\n",
        "os.environ['TF_CPP_MIN_LOG_LEVEL'] = '3'\n",
        "import tensorflow as tf"
      ],
      "execution_count": 0,
      "outputs": []
    },
    {
      "cell_type": "markdown",
      "metadata": {
        "id": "X_m5wmVTQu5j",
        "colab_type": "text"
      },
      "source": [
        "# Set parameters"
      ]
    },
    {
      "cell_type": "code",
      "metadata": {
        "id": "4TWHVgayKD9C",
        "colab_type": "code",
        "colab": {}
      },
      "source": [
        "####################################################\n",
        "# PARAMETERS\n",
        "####################################################\n",
        "\n",
        "VALUE_COUNT_TRAIN = 10000\n",
        "MAX_VALUE_TRAIN = 500\n",
        "MAX_VALUE_TEST = 500\n",
        "EPOCHS = 50\n",
        "BATCH_SIZE = 128\n",
        "VERBOSE = 1\n",
        "ACTIVATION = 'linear'\n",
        "\n",
        "####################################################"
      ],
      "execution_count": 0,
      "outputs": []
    },
    {
      "cell_type": "markdown",
      "metadata": {
        "id": "-7W0CmtDQ89X",
        "colab_type": "text"
      },
      "source": [
        "# Create Numpy ndarray triples with two numbers and sum"
      ]
    },
    {
      "cell_type": "code",
      "metadata": {
        "id": "RLJ_fQvD228b",
        "colab_type": "code",
        "colab": {}
      },
      "source": [
        "def create_triples (count, max):\n",
        "    numbers = list ()\n",
        "    result = list ()\n",
        "    for n in range (count):\n",
        "        numbers.append ([randint (0, max), randint (0, max)])\n",
        "        result.append (sum (numbers[n]))\n",
        "    numbers = array (numbers)\n",
        "    result = array (result)\n",
        "    return numbers, result"
      ],
      "execution_count": 0,
      "outputs": []
    },
    {
      "cell_type": "markdown",
      "metadata": {
        "id": "LOj5sImCRlb_",
        "colab_type": "text"
      },
      "source": [
        "# Denormalize numbers"
      ]
    },
    {
      "cell_type": "code",
      "metadata": {
        "id": "gJ_hvvNU2-Xh",
        "colab_type": "code",
        "colab": {}
      },
      "source": [
        "def denormalize (value, max):\n",
        "    return value * float (max * 2.0)"
      ],
      "execution_count": 0,
      "outputs": []
    },
    {
      "cell_type": "markdown",
      "metadata": {
        "id": "ydbUtfFeR00h",
        "colab_type": "text"
      },
      "source": [
        "# Normalize number to range 0..1"
      ]
    },
    {
      "cell_type": "code",
      "metadata": {
        "id": "JyGeA6D53DVN",
        "colab_type": "code",
        "colab": {}
      },
      "source": [
        "def normalize (value, max):\n",
        "    return value.astype ('float') / float (max * 2.0)"
      ],
      "execution_count": 0,
      "outputs": []
    },
    {
      "cell_type": "markdown",
      "metadata": {
        "id": "fhd780qOSCsQ",
        "colab_type": "text"
      },
      "source": [
        "# Create model"
      ]
    },
    {
      "cell_type": "code",
      "metadata": {
        "id": "THV3Zkro3VHf",
        "colab_type": "code",
        "colab": {}
      },
      "source": [
        "def model_create (act):\n",
        "    model = Sequential()\n",
        "    model.add (Dense (3, input_dim = 2, activation = act))\n",
        "    model.add (Dense (5, activation = act))\n",
        "    model.add (Dense (1, activation = act))\n",
        "    model.compile (loss='mean_squared_error', optimizer='adam')\n",
        "    return model"
      ],
      "execution_count": 0,
      "outputs": []
    },
    {
      "cell_type": "markdown",
      "metadata": {
        "id": "ZqlqzbokTaDC",
        "colab_type": "text"
      },
      "source": [
        "# Train model"
      ]
    },
    {
      "cell_type": "code",
      "metadata": {
        "id": "qU3y6koYTdn5",
        "colab_type": "code",
        "colab": {}
      },
      "source": [
        "def model_train (model):\n",
        "        x, y = create_triples (VALUE_COUNT_TRAIN, MAX_VALUE_TRAIN)\n",
        "        x2 = normalize (x, MAX_VALUE_TRAIN)\n",
        "        y2 = normalize (y, MAX_VALUE_TRAIN)\n",
        "        model.fit (x2,\n",
        "               y2,\n",
        "               epochs = EPOCHS,\n",
        "               batch_size = BATCH_SIZE,\n",
        "               verbose = VERBOSE)"
      ],
      "execution_count": 0,
      "outputs": []
    },
    {
      "cell_type": "markdown",
      "metadata": {
        "id": "tG2EDS2jSkMr",
        "colab_type": "text"
      },
      "source": [
        "# Create and show model"
      ]
    },
    {
      "cell_type": "code",
      "metadata": {
        "id": "1M0uSVnOStxj",
        "colab_type": "code",
        "colab": {
          "base_uri": "https://localhost:8080/",
          "height": 260
        },
        "outputId": "8e44ca6d-3cf1-4fec-b572-e8c975c89f7a"
      },
      "source": [
        "model = model_create (ACTIVATION)\n",
        "model.summary ()"
      ],
      "execution_count": 9,
      "outputs": [
        {
          "output_type": "stream",
          "text": [
            "Model: \"sequential\"\n",
            "_________________________________________________________________\n",
            "Layer (type)                 Output Shape              Param #   \n",
            "=================================================================\n",
            "dense (Dense)                (None, 3)                 9         \n",
            "_________________________________________________________________\n",
            "dense_1 (Dense)              (None, 5)                 20        \n",
            "_________________________________________________________________\n",
            "dense_2 (Dense)              (None, 1)                 6         \n",
            "=================================================================\n",
            "Total params: 35\n",
            "Trainable params: 35\n",
            "Non-trainable params: 0\n",
            "_________________________________________________________________\n"
          ],
          "name": "stdout"
        }
      ]
    },
    {
      "cell_type": "markdown",
      "metadata": {
        "id": "ykyXy_SfTmqa",
        "colab_type": "text"
      },
      "source": [
        "# Train model"
      ]
    },
    {
      "cell_type": "code",
      "metadata": {
        "id": "q9IP7FobTqfb",
        "colab_type": "code",
        "colab": {
          "base_uri": "https://localhost:8080/",
          "height": 1000
        },
        "outputId": "8dc10b3a-cb0e-4a77-eb03-042100eb43c4"
      },
      "source": [
        "model_train (model)"
      ],
      "execution_count": 10,
      "outputs": [
        {
          "output_type": "stream",
          "text": [
            "Epoch 1/50\n",
            "79/79 [==============================] - 0s 1ms/step - loss: 0.0618\n",
            "Epoch 2/50\n",
            "79/79 [==============================] - 0s 953us/step - loss: 0.0152\n",
            "Epoch 3/50\n",
            "79/79 [==============================] - 0s 2ms/step - loss: 0.0124\n",
            "Epoch 4/50\n",
            "79/79 [==============================] - 0s 944us/step - loss: 0.0094\n",
            "Epoch 5/50\n",
            "79/79 [==============================] - 0s 941us/step - loss: 0.0064\n",
            "Epoch 6/50\n",
            "79/79 [==============================] - 0s 967us/step - loss: 0.0037\n",
            "Epoch 7/50\n",
            "79/79 [==============================] - 0s 1000us/step - loss: 0.0017\n",
            "Epoch 8/50\n",
            "79/79 [==============================] - 0s 967us/step - loss: 5.8213e-04\n",
            "Epoch 9/50\n",
            "79/79 [==============================] - 0s 989us/step - loss: 1.5037e-04\n",
            "Epoch 10/50\n",
            "79/79 [==============================] - 0s 999us/step - loss: 2.8926e-05\n",
            "Epoch 11/50\n",
            "79/79 [==============================] - 0s 944us/step - loss: 4.2820e-06\n",
            "Epoch 12/50\n",
            "79/79 [==============================] - 0s 1ms/step - loss: 5.2092e-07\n",
            "Epoch 13/50\n",
            "79/79 [==============================] - 0s 1ms/step - loss: 5.1635e-08\n",
            "Epoch 14/50\n",
            "79/79 [==============================] - 0s 952us/step - loss: 4.2129e-09\n",
            "Epoch 15/50\n",
            "79/79 [==============================] - 0s 962us/step - loss: 2.8186e-10\n",
            "Epoch 16/50\n",
            "79/79 [==============================] - 0s 964us/step - loss: 1.5863e-11\n",
            "Epoch 17/50\n",
            "79/79 [==============================] - 0s 967us/step - loss: 8.2301e-13\n",
            "Epoch 18/50\n",
            "79/79 [==============================] - 0s 1ms/step - loss: 3.3674e-13\n",
            "Epoch 19/50\n",
            "79/79 [==============================] - 0s 976us/step - loss: 2.6653e-13\n",
            "Epoch 20/50\n",
            "79/79 [==============================] - 0s 990us/step - loss: 2.0536e-13\n",
            "Epoch 21/50\n",
            "79/79 [==============================] - 0s 968us/step - loss: 1.4533e-13\n",
            "Epoch 22/50\n",
            "79/79 [==============================] - 0s 1ms/step - loss: 1.0137e-13\n",
            "Epoch 23/50\n",
            "79/79 [==============================] - 0s 1ms/step - loss: 6.9676e-14\n",
            "Epoch 24/50\n",
            "79/79 [==============================] - 0s 1ms/step - loss: 4.8423e-14\n",
            "Epoch 25/50\n",
            "79/79 [==============================] - 0s 960us/step - loss: 3.4511e-14\n",
            "Epoch 26/50\n",
            "79/79 [==============================] - 0s 955us/step - loss: 2.7324e-14\n",
            "Epoch 27/50\n",
            "79/79 [==============================] - 0s 972us/step - loss: 2.4663e-14\n",
            "Epoch 28/50\n",
            "79/79 [==============================] - 0s 1ms/step - loss: 2.3299e-14\n",
            "Epoch 29/50\n",
            "79/79 [==============================] - 0s 971us/step - loss: 2.0554e-14\n",
            "Epoch 30/50\n",
            "79/79 [==============================] - 0s 972us/step - loss: 1.8093e-14\n",
            "Epoch 31/50\n",
            "79/79 [==============================] - 0s 976us/step - loss: 1.6523e-14\n",
            "Epoch 32/50\n",
            "79/79 [==============================] - 0s 945us/step - loss: 1.4831e-14\n",
            "Epoch 33/50\n",
            "79/79 [==============================] - 0s 983us/step - loss: 1.4349e-14\n",
            "Epoch 34/50\n",
            "79/79 [==============================] - 0s 959us/step - loss: 1.3076e-14\n",
            "Epoch 35/50\n",
            "79/79 [==============================] - 0s 927us/step - loss: 1.2065e-14\n",
            "Epoch 36/50\n",
            "79/79 [==============================] - 0s 1ms/step - loss: 1.1275e-14\n",
            "Epoch 37/50\n",
            "79/79 [==============================] - 0s 947us/step - loss: 9.6799e-15\n",
            "Epoch 38/50\n",
            "79/79 [==============================] - 0s 932us/step - loss: 9.2555e-15\n",
            "Epoch 39/50\n",
            "79/79 [==============================] - 0s 918us/step - loss: 8.6631e-15\n",
            "Epoch 40/50\n",
            "79/79 [==============================] - 0s 904us/step - loss: 7.9186e-15\n",
            "Epoch 41/50\n",
            "79/79 [==============================] - 0s 1ms/step - loss: 6.9384e-15\n",
            "Epoch 42/50\n",
            "79/79 [==============================] - 0s 992us/step - loss: 6.1850e-15\n",
            "Epoch 43/50\n",
            "79/79 [==============================] - 0s 990us/step - loss: 5.9037e-15\n",
            "Epoch 44/50\n",
            "79/79 [==============================] - 0s 1ms/step - loss: 5.7314e-15\n",
            "Epoch 45/50\n",
            "79/79 [==============================] - 0s 1ms/step - loss: 5.5428e-15\n",
            "Epoch 46/50\n",
            "79/79 [==============================] - 0s 974us/step - loss: 5.2084e-15\n",
            "Epoch 47/50\n",
            "79/79 [==============================] - 0s 1ms/step - loss: 5.1208e-15\n",
            "Epoch 48/50\n",
            "79/79 [==============================] - 0s 1ms/step - loss: 4.8554e-15\n",
            "Epoch 49/50\n",
            "79/79 [==============================] - 0s 945us/step - loss: 4.0693e-15\n",
            "Epoch 50/50\n",
            "79/79 [==============================] - 0s 1ms/step - loss: 3.6251e-15\n"
          ],
          "name": "stdout"
        }
      ]
    },
    {
      "cell_type": "markdown",
      "metadata": {
        "id": "DAXBA_CMTysv",
        "colab_type": "text"
      },
      "source": [
        "# Prediction"
      ]
    },
    {
      "cell_type": "code",
      "metadata": {
        "id": "n65ZLXJFT1HQ",
        "colab_type": "code",
        "colab": {}
      },
      "source": [
        "x, y = create_triples (10, MAX_VALUE_TEST)\n",
        "x2 = normalize (x, MAX_VALUE_TEST)\n",
        "testresult = model.predict (x2, batch_size = 128, verbose = 0)"
      ],
      "execution_count": 0,
      "outputs": []
    },
    {
      "cell_type": "markdown",
      "metadata": {
        "id": "enZS98bGUPdF",
        "colab_type": "text"
      },
      "source": [
        "# Show result"
      ]
    },
    {
      "cell_type": "code",
      "metadata": {
        "id": "xj4WhLIZUSoH",
        "colab_type": "code",
        "colab": {
          "base_uri": "https://localhost:8080/",
          "height": 208
        },
        "outputId": "d400e5d3-ed33-4994-f2a2-185ef9fc61b6"
      },
      "source": [
        "print ('Count      Number1        Number2       Total            Right           Error')\n",
        "for i in range (len (testresult)):\n",
        "    number1 = denormalize (x2[i][0], MAX_VALUE_TEST)\n",
        "    number2 = denormalize (x2[i][1], MAX_VALUE_TEST)\n",
        "    total = denormalize (testresult[i][0], MAX_VALUE_TEST)\n",
        "    print ('{:4d}. {:12.3f} + {:12.3f} = {:12.3f} === {:12.3f} {:12.3f}'.format (\n",
        "\t\ti + 1, number1, number2, total, number1 + number2, abs(total - (number1 + number2)))\n",
        "\t)"
      ],
      "execution_count": 12,
      "outputs": [
        {
          "output_type": "stream",
          "text": [
            "Count      Number1        Number2       Total            Right           Error\n",
            "   1.      472.000 +      245.000 =      717.000 ===      717.000        0.000\n",
            "   2.      215.000 +       78.000 =      293.000 ===      293.000        0.000\n",
            "   3.      154.000 +      211.000 =      365.000 ===      365.000        0.000\n",
            "   4.       98.000 +       19.000 =      117.000 ===      117.000        0.000\n",
            "   5.      232.000 +      258.000 =      490.000 ===      490.000        0.000\n",
            "   6.      358.000 +       76.000 =      434.000 ===      434.000        0.000\n",
            "   7.      491.000 +        4.000 =      495.000 ===      495.000        0.000\n",
            "   8.       66.000 +      498.000 =      564.000 ===      564.000        0.000\n",
            "   9.      161.000 +      212.000 =      373.000 ===      373.000        0.000\n",
            "  10.      384.000 +      427.000 =      811.000 ===      811.000        0.000\n"
          ],
          "name": "stdout"
        }
      ]
    }
  ]
}